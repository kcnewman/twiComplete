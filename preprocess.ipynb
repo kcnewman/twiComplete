{
 "cells": [
  {
   "cell_type": "markdown",
   "id": "c711736b",
   "metadata": {},
   "source": [
    "# Fetching the dataset\n"
   ]
  },
  {
   "cell_type": "code",
   "execution_count": 82,
   "id": "bca8b145",
   "metadata": {},
   "outputs": [],
   "source": [
    "# dependencies\n",
    "import os\n",
    "import pandas as pd\n",
    "import numpy as np"
   ]
  },
  {
   "cell_type": "code",
   "execution_count": 83,
   "id": "ad942eb5",
   "metadata": {},
   "outputs": [],
   "source": [
    "# # fetching the dataset\n",
    "\n",
    "# data = pd.read_parquet(\n",
    "#     \"hf://datasets/michsethowusu/twi-sentiments-corpus/data/train-00000-of-00001-871f629b5e597578.parquet\"\n",
    "# )\n",
    "\n",
    "# print(f\"len data1: {len(data)}\")"
   ]
  },
  {
   "cell_type": "code",
   "execution_count": 84,
   "id": "9784e1af",
   "metadata": {},
   "outputs": [],
   "source": [
    "data1 = pd.read_csv(\"./data/raw/verified_data.csv\")\n",
    "data2 = pd.read_csv(\"./data/raw/crowdsourced_data.csv\")\n",
    "data2.columns = [\"English\", \"Akuapem Twi\"]"
   ]
  },
  {
   "cell_type": "code",
   "execution_count": 85,
   "id": "7f5d9e62",
   "metadata": {},
   "outputs": [],
   "source": [
    "data = pd.concat([data1, data2], ignore_index=True)"
   ]
  },
  {
   "cell_type": "code",
   "execution_count": 86,
   "id": "e185d171",
   "metadata": {},
   "outputs": [
    {
     "data": {
      "text/html": [
       "<div>\n",
       "<style scoped>\n",
       "    .dataframe tbody tr th:only-of-type {\n",
       "        vertical-align: middle;\n",
       "    }\n",
       "\n",
       "    .dataframe tbody tr th {\n",
       "        vertical-align: top;\n",
       "    }\n",
       "\n",
       "    .dataframe thead th {\n",
       "        text-align: right;\n",
       "    }\n",
       "</style>\n",
       "<table border=\"1\" class=\"dataframe\">\n",
       "  <thead>\n",
       "    <tr style=\"text-align: right;\">\n",
       "      <th></th>\n",
       "      <th>English</th>\n",
       "      <th>Akuapem Twi</th>\n",
       "    </tr>\n",
       "  </thead>\n",
       "  <tbody>\n",
       "    <tr>\n",
       "      <th>0</th>\n",
       "      <td>What she lacks in charisma she makes up for wi...</td>\n",
       "      <td>Nea onni ho adwempa no de adwumaden na ɛba.</td>\n",
       "    </tr>\n",
       "    <tr>\n",
       "      <th>1</th>\n",
       "      <td>There was nothing I could do about it.</td>\n",
       "      <td>Na biribiara nni hɛ a metumi ayɔ</td>\n",
       "    </tr>\n",
       "    <tr>\n",
       "      <th>2</th>\n",
       "      <td>Kwaku saw John and Abena holding hands.</td>\n",
       "      <td>Kwaku hui se  John ne Abena kurakura wɛn nsa.</td>\n",
       "    </tr>\n",
       "    <tr>\n",
       "      <th>3</th>\n",
       "      <td>Can you stay till 2:30?</td>\n",
       "      <td>So wubetumi atena ha akosi nnɛnmienu npaamu ad...</td>\n",
       "    </tr>\n",
       "    <tr>\n",
       "      <th>4</th>\n",
       "      <td>You haven't got much time.</td>\n",
       "      <td>Wonni mmre</td>\n",
       "    </tr>\n",
       "  </tbody>\n",
       "</table>\n",
       "</div>"
      ],
      "text/plain": [
       "                                             English  \\\n",
       "0  What she lacks in charisma she makes up for wi...   \n",
       "1             There was nothing I could do about it.   \n",
       "2            Kwaku saw John and Abena holding hands.   \n",
       "3                            Can you stay till 2:30?   \n",
       "4                         You haven't got much time.   \n",
       "\n",
       "                                         Akuapem Twi  \n",
       "0        Nea onni ho adwempa no de adwumaden na ɛba.  \n",
       "1                   Na biribiara nni hɛ a metumi ayɔ  \n",
       "2      Kwaku hui se  John ne Abena kurakura wɛn nsa.  \n",
       "3  So wubetumi atena ha akosi nnɛnmienu npaamu ad...  \n",
       "4                                         Wonni mmre  "
      ]
     },
     "execution_count": 86,
     "metadata": {},
     "output_type": "execute_result"
    }
   ],
   "source": [
    "data.head()"
   ]
  },
  {
   "cell_type": "code",
   "execution_count": 87,
   "id": "7b32999f",
   "metadata": {},
   "outputs": [],
   "source": [
    "data = data[\"Akuapem Twi\"]"
   ]
  },
  {
   "cell_type": "code",
   "execution_count": 88,
   "id": "9fa2de3d",
   "metadata": {},
   "outputs": [
    {
     "data": {
      "text/plain": [
       "26112            M'adwenkyerɛ ne sɛ ohia ma adwendwen\n",
       "26113      Mebɔtɔ no akyɛre dodo, ɛsɛ sɛ metɔ foforow\n",
       "26114                              Hwan na obisaa wo?\n",
       "26115    Yaw dwenee Adwoa ho anadwo no nyinaa a wanna\n",
       "26116                                 Woresɛe wommere\n",
       "Name: Akuapem Twi, dtype: object"
      ]
     },
     "execution_count": 88,
     "metadata": {},
     "output_type": "execute_result"
    }
   ],
   "source": [
    "data.tail()"
   ]
  },
  {
   "cell_type": "code",
   "execution_count": 89,
   "id": "b5a81f7a",
   "metadata": {},
   "outputs": [],
   "source": [
    "data = data.dropna()"
   ]
  },
  {
   "cell_type": "code",
   "execution_count": 90,
   "id": "53f3c2eb",
   "metadata": {},
   "outputs": [],
   "source": [
    "data.to_csv(\"./data/processed/twiSentences.csv\")"
   ]
  },
  {
   "cell_type": "markdown",
   "id": "522475a6",
   "metadata": {},
   "source": [
    "# Preprocessing\n"
   ]
  },
  {
   "cell_type": "code",
   "execution_count": 91,
   "id": "2f4f7293",
   "metadata": {},
   "outputs": [
    {
     "name": "stderr",
     "output_type": "stream",
     "text": [
      "[nltk_data] Downloading package punkt to\n",
      "[nltk_data]     C:\\Users\\os\\AppData\\Roaming\\nltk_data...\n",
      "[nltk_data]   Package punkt is already up-to-date!\n",
      "[nltk_data] Downloading package punkt_tab to\n",
      "[nltk_data]     C:\\Users\\os\\AppData\\Roaming\\nltk_data...\n",
      "[nltk_data]   Package punkt_tab is already up-to-date!\n"
     ]
    },
    {
     "data": {
      "text/plain": [
       "True"
      ]
     },
     "execution_count": 91,
     "metadata": {},
     "output_type": "execute_result"
    }
   ],
   "source": [
    "import re\n",
    "import unicodedata\n",
    "import nltk\n",
    "import pickle\n",
    "import string\n",
    "import pandas as pd\n",
    "from nltk.tokenize import word_tokenize, sent_tokenize\n",
    "\n",
    "nltk.download(\"punkt\")\n",
    "nltk.download(\"punkt_tab\")"
   ]
  },
  {
   "cell_type": "code",
   "execution_count": 92,
   "id": "063a3bc6",
   "metadata": {},
   "outputs": [],
   "source": [
    "AKAN_CHARS = \"aeiouɛɔbdfghjklmnprstwyŋ'\"\n",
    "AKAN_CHARS_SET = set(AKAN_CHARS)\n",
    "\n",
    "\n",
    "def remAccents(text):\n",
    "    \"\"\"Preserve ɛ, ɔ, ŋ and strip other diacritics.\"\"\"\n",
    "    return \"\".join(\n",
    "        t\n",
    "        for t in unicodedata.normalize(\"NFD\", text)\n",
    "        if unicodedata.category(t) != \"Mn\" or t in \"ɛɔƐƆŋŊ\"\n",
    "    )\n",
    "\n",
    "\n",
    "def isAkan(word: str):\n",
    "    \"\"\"Check if the word contains only valid Akan characters.\"\"\"\n",
    "    return all(char in AKAN_CHARS_SET for char in word)\n",
    "\n",
    "\n",
    "def cleanText(text: str):\n",
    "    \"\"\"\n",
    "    remove all words with any non-Akan characters.\n",
    "    Returns a cleaned sentence.\n",
    "    \"\"\"\n",
    "    text = remAccents(text)\n",
    "    text = text.lower()\n",
    "\n",
    "    text = re.sub(r\"[^a-zɛɔŋ'\\s]\", \" \", text)\n",
    "    text = re.sub(r\"\\s+\", \" \", text).strip()\n",
    "\n",
    "    words = text.split()\n",
    "    stripped = [word.strip(\"'\") for word in words]\n",
    "    pure_words = [word for word in stripped if isAkan(word)]\n",
    "\n",
    "    return \" \".join(pure_words)\n",
    "\n",
    "\n",
    "def preprocess(data):\n",
    "    cleanedSentences = []\n",
    "    for row in data:\n",
    "        sentence = cleanText(row)\n",
    "        if sentence:\n",
    "            cleanedSentences.append(sentence)\n",
    "    return cleanedSentences"
   ]
  },
  {
   "cell_type": "code",
   "execution_count": 93,
   "id": "f0d77355",
   "metadata": {},
   "outputs": [],
   "source": [
    "cleanedData=preprocess(data=data)"
   ]
  },
  {
   "cell_type": "code",
   "execution_count": 94,
   "id": "238b8bb8",
   "metadata": {},
   "outputs": [
    {
     "data": {
      "text/plain": [
       "['mɛnkɔ mmeretiawa yi mu',\n",
       " 'yaw akatua yɛ mede mmɔho mmiensa',\n",
       " 'mempɛ wiemhyɛn mu akwantu',\n",
       " 'na ɛsɛ sɛ metɔ ade biribi wɔ sotɔɔ no mu nanso mewerefiie',\n",
       " 'misusuw nea enti a ɔreteetee saa no ho',\n",
       " \"m'adwenkyerɛ ne sɛ ohia ma adwendwen\",\n",
       " 'mebɔtɔ no akyɛre dodo ɛsɛ sɛ metɔ foforow',\n",
       " 'hwan na obisaa wo',\n",
       " 'yaw dwenee adwoa ho anadwo no nyinaa a wanna',\n",
       " 'woresɛe wommere']"
      ]
     },
     "execution_count": 94,
     "metadata": {},
     "output_type": "execute_result"
    }
   ],
   "source": [
    "cleanedData[-10:]"
   ]
  },
  {
   "cell_type": "code",
   "execution_count": 95,
   "id": "3a40e153",
   "metadata": {},
   "outputs": [
    {
     "name": "stdout",
     "output_type": "stream",
     "text": [
      "length of cleaned data: 26115\n"
     ]
    }
   ],
   "source": [
    "print(f\"length of cleaned data: {len(cleanedData)}\")"
   ]
  },
  {
   "cell_type": "code",
   "execution_count": 96,
   "id": "61eaf4a9",
   "metadata": {},
   "outputs": [],
   "source": [
    "def tokenize(sentences):\n",
    "    tokenizedSentences = []\n",
    "    for sentence in sentences:\n",
    "        tok = word_tokenize(sentence)\n",
    "        tokenizedSentences.append(tok)\n",
    "    return tokenizedSentences\n",
    "    "
   ]
  },
  {
   "cell_type": "code",
   "execution_count": 97,
   "id": "d3a45547",
   "metadata": {},
   "outputs": [],
   "source": [
    "sentenceTokens = tokenize(cleanedData)"
   ]
  },
  {
   "cell_type": "markdown",
   "id": "15ad33b0",
   "metadata": {},
   "source": [
    "# Splitting data into train and test"
   ]
  },
  {
   "cell_type": "code",
   "execution_count": 98,
   "id": "de59d851",
   "metadata": {},
   "outputs": [],
   "source": [
    "import random\n",
    "\n",
    "SEED = 2025\n",
    "random.seed(SEED)\n",
    "random.shuffle(sentenceTokens)\n",
    "\n",
    "trainSize = int(len(sentenceTokens)*0.8)\n",
    "trainData = sentenceTokens[0:trainSize]\n",
    "testData = sentenceTokens[trainSize:]"
   ]
  },
  {
   "cell_type": "code",
   "execution_count": 99,
   "id": "edf62a9c",
   "metadata": {},
   "outputs": [],
   "source": [
    "with open(\"./data/processed/trainTokens.pkl\", \"wb\") as f:\n",
    "    pickle.dump(trainData,f)"
   ]
  },
  {
   "cell_type": "code",
   "execution_count": 100,
   "id": "b720bd40",
   "metadata": {},
   "outputs": [],
   "source": [
    "with open(\"./data/processed/testTokens.pkl\", \"wb\") as f:\n",
    "    pickle.dump(testData, f)"
   ]
  }
 ],
 "metadata": {
  "kernelspec": {
   "display_name": "twicomplete",
   "language": "python",
   "name": "python3"
  },
  "language_info": {
   "codemirror_mode": {
    "name": "ipython",
    "version": 3
   },
   "file_extension": ".py",
   "mimetype": "text/x-python",
   "name": "python",
   "nbconvert_exporter": "python",
   "pygments_lexer": "ipython3",
   "version": "3.13.5"
  }
 },
 "nbformat": 4,
 "nbformat_minor": 5
}
