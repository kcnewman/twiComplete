{
 "cells": [
  {
   "cell_type": "markdown",
   "id": "c711736b",
   "metadata": {},
   "source": [
    "# Fetching the dataset\n"
   ]
  },
  {
   "cell_type": "code",
   "execution_count": 1,
   "id": "bca8b145",
   "metadata": {},
   "outputs": [],
   "source": [
    "# dependencies\n",
    "import os\n",
    "import pandas as pd\n",
    "import numpy as np"
   ]
  },
  {
   "cell_type": "code",
   "execution_count": 2,
   "id": "ad942eb5",
   "metadata": {},
   "outputs": [],
   "source": [
    "# fetching the dataset\n",
    "data = pd.read_parquet(\"./data/raw/eng_twi_parallel_corpus_4M.parquet\")"
   ]
  },
  {
   "cell_type": "code",
   "execution_count": 3,
   "id": "7b32999f",
   "metadata": {},
   "outputs": [],
   "source": [
    "data = data[\"Twi\"]"
   ]
  },
  {
   "cell_type": "code",
   "execution_count": 4,
   "id": "9fa2de3d",
   "metadata": {},
   "outputs": [
    {
     "data": {
      "text/plain": [
       "0                        Nyansa mu na woyɛɛ ne nyinaa;\n",
       "1    \"Na monfa aboterɛ ne Asͻreyͻ nhwehwɛ mmoa; na ...\n",
       "2                  'Monam me [Yesu] so benya asomdwoe.\n",
       "3                                      alo yɛngɛ sone,\n",
       "4                  Wosɛe wɔn a wɔnni wo nokorɛ nyinaa.\n",
       "Name: Twi, dtype: object"
      ]
     },
     "execution_count": 4,
     "metadata": {},
     "output_type": "execute_result"
    }
   ],
   "source": [
    "data.head()"
   ]
  },
  {
   "cell_type": "code",
   "execution_count": null,
   "id": "53f3c2eb",
   "metadata": {},
   "outputs": [],
   "source": [
    "data.to_csv(\n",
    "    \"./data/processed/twiSentences.csv\",\n",
    ")"
   ]
  },
  {
   "cell_type": "code",
   "execution_count": 6,
   "id": "e0d4e92c",
   "metadata": {},
   "outputs": [],
   "source": [
    "twi = pd.read_csv(\"./data/processed/twiSentences.csv\")"
   ]
  }
 ],
 "metadata": {
  "kernelspec": {
   "display_name": "twicomplete",
   "language": "python",
   "name": "python3"
  },
  "language_info": {
   "codemirror_mode": {
    "name": "ipython",
    "version": 3
   },
   "file_extension": ".py",
   "mimetype": "text/x-python",
   "name": "python",
   "nbconvert_exporter": "python",
   "pygments_lexer": "ipython3",
   "version": "3.13.5"
  }
 },
 "nbformat": 4,
 "nbformat_minor": 5
}
