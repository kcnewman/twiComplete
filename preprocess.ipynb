{
 "cells": [
  {
   "cell_type": "markdown",
   "id": "c711736b",
   "metadata": {},
   "source": [
    "# Fetching the dataset\n"
   ]
  },
  {
   "cell_type": "code",
   "execution_count": 1,
   "id": "bca8b145",
   "metadata": {},
   "outputs": [],
   "source": [
    "# dependencies\n",
    "import os\n",
    "import pandas as pd\n",
    "import numpy as np"
   ]
  },
  {
   "cell_type": "code",
   "execution_count": 2,
   "id": "ad942eb5",
   "metadata": {},
   "outputs": [
    {
     "name": "stderr",
     "output_type": "stream",
     "text": [
      "c:\\Users\\os\\miniconda3\\envs\\twicomplete\\Lib\\site-packages\\tqdm\\auto.py:21: TqdmWarning: IProgress not found. Please update jupyter and ipywidgets. See https://ipywidgets.readthedocs.io/en/stable/user_install.html\n",
      "  from .autonotebook import tqdm as notebook_tqdm\n"
     ]
    },
    {
     "name": "stdout",
     "output_type": "stream",
     "text": [
      "len data1: 432647\n"
     ]
    }
   ],
   "source": [
    "# fetching the dataset\n",
    "\n",
    "data = pd.read_parquet(\n",
    "    \"hf://datasets/michsethowusu/twi-sentiments-corpus/data/train-00000-of-00001-871f629b5e597578.parquet\"\n",
    ")\n",
    "\n",
    "print(f\"len data1: {len(data)}\")"
   ]
  },
  {
   "cell_type": "code",
   "execution_count": 3,
   "id": "e185d171",
   "metadata": {},
   "outputs": [
    {
     "data": {
      "text/html": [
       "<div>\n",
       "<style scoped>\n",
       "    .dataframe tbody tr th:only-of-type {\n",
       "        vertical-align: middle;\n",
       "    }\n",
       "\n",
       "    .dataframe tbody tr th {\n",
       "        vertical-align: top;\n",
       "    }\n",
       "\n",
       "    .dataframe thead th {\n",
       "        text-align: right;\n",
       "    }\n",
       "</style>\n",
       "<table border=\"1\" class=\"dataframe\">\n",
       "  <thead>\n",
       "    <tr style=\"text-align: right;\">\n",
       "      <th></th>\n",
       "      <th>Twi</th>\n",
       "      <th>sentiment</th>\n",
       "      <th>__index_level_0__</th>\n",
       "    </tr>\n",
       "  </thead>\n",
       "  <tbody>\n",
       "    <tr>\n",
       "      <th>0</th>\n",
       "      <td>Nyansa mu na woyɛɛ ne nyinaa;</td>\n",
       "      <td>Positive</td>\n",
       "      <td>0</td>\n",
       "    </tr>\n",
       "    <tr>\n",
       "      <th>1</th>\n",
       "      <td>alo yɛngɛ sone,</td>\n",
       "      <td>Negative</td>\n",
       "      <td>1</td>\n",
       "    </tr>\n",
       "    <tr>\n",
       "      <th>2</th>\n",
       "      <td>Wosɛe wɔn a wɔnni wo nokorɛ nyinaa.</td>\n",
       "      <td>Negative</td>\n",
       "      <td>2</td>\n",
       "    </tr>\n",
       "    <tr>\n",
       "      <th>3</th>\n",
       "      <td>Akatua bɛn na ɔde bɛma wɔn a wɔde gyidi som no?</td>\n",
       "      <td>Positive</td>\n",
       "      <td>3</td>\n",
       "    </tr>\n",
       "    <tr>\n",
       "      <th>4</th>\n",
       "      <td>mepɛ Onyankopɔn ho nimdeɛ sen ɔhyew afɔre.</td>\n",
       "      <td>Positive</td>\n",
       "      <td>4</td>\n",
       "    </tr>\n",
       "  </tbody>\n",
       "</table>\n",
       "</div>"
      ],
      "text/plain": [
       "                                               Twi sentiment  \\\n",
       "0                    Nyansa mu na woyɛɛ ne nyinaa;  Positive   \n",
       "1                                  alo yɛngɛ sone,  Negative   \n",
       "2              Wosɛe wɔn a wɔnni wo nokorɛ nyinaa.  Negative   \n",
       "3  Akatua bɛn na ɔde bɛma wɔn a wɔde gyidi som no?  Positive   \n",
       "4       mepɛ Onyankopɔn ho nimdeɛ sen ɔhyew afɔre.  Positive   \n",
       "\n",
       "   __index_level_0__  \n",
       "0                  0  \n",
       "1                  1  \n",
       "2                  2  \n",
       "3                  3  \n",
       "4                  4  "
      ]
     },
     "execution_count": 3,
     "metadata": {},
     "output_type": "execute_result"
    }
   ],
   "source": [
    "data.head()"
   ]
  },
  {
   "cell_type": "code",
   "execution_count": 4,
   "id": "7b32999f",
   "metadata": {},
   "outputs": [],
   "source": [
    "data = data[\"Twi\"]"
   ]
  },
  {
   "cell_type": "code",
   "execution_count": 5,
   "id": "9fa2de3d",
   "metadata": {},
   "outputs": [
    {
     "data": {
      "text/plain": [
       "0                      Nyansa mu na woyɛɛ ne nyinaa;\n",
       "1                                    alo yɛngɛ sone,\n",
       "2                Wosɛe wɔn a wɔnni wo nokorɛ nyinaa.\n",
       "3    Akatua bɛn na ɔde bɛma wɔn a wɔde gyidi som no?\n",
       "4         mepɛ Onyankopɔn ho nimdeɛ sen ɔhyew afɔre.\n",
       "Name: Twi, dtype: object"
      ]
     },
     "execution_count": 5,
     "metadata": {},
     "output_type": "execute_result"
    }
   ],
   "source": [
    "data.head()"
   ]
  },
  {
   "cell_type": "code",
   "execution_count": 6,
   "id": "53f3c2eb",
   "metadata": {},
   "outputs": [],
   "source": [
    "data.to_csv(\"./data/processed/twiSentences.csv\")"
   ]
  },
  {
   "cell_type": "markdown",
   "id": "522475a6",
   "metadata": {},
   "source": [
    "# Preprocessing\n"
   ]
  },
  {
   "cell_type": "code",
   "execution_count": 7,
   "id": "2f4f7293",
   "metadata": {},
   "outputs": [
    {
     "name": "stderr",
     "output_type": "stream",
     "text": [
      "[nltk_data] Downloading package punkt to\n",
      "[nltk_data]     C:\\Users\\os\\AppData\\Roaming\\nltk_data...\n",
      "[nltk_data]   Package punkt is already up-to-date!\n",
      "[nltk_data] Downloading package punkt_tab to\n",
      "[nltk_data]     C:\\Users\\os\\AppData\\Roaming\\nltk_data...\n",
      "[nltk_data]   Package punkt_tab is already up-to-date!\n"
     ]
    },
    {
     "data": {
      "text/plain": [
       "True"
      ]
     },
     "execution_count": 7,
     "metadata": {},
     "output_type": "execute_result"
    }
   ],
   "source": [
    "import re\n",
    "import unicodedata\n",
    "import nltk\n",
    "import pickle\n",
    "import string\n",
    "import pandas as pd\n",
    "from nltk.tokenize import word_tokenize, sent_tokenize\n",
    "\n",
    "nltk.download(\"punkt\")\n",
    "nltk.download(\"punkt_tab\")"
   ]
  },
  {
   "cell_type": "code",
   "execution_count": 8,
   "id": "063a3bc6",
   "metadata": {},
   "outputs": [],
   "source": [
    "AKAN_CHARS = \"aeiouɛɔbdfghjklmnprstwyŋ'\"\n",
    "AKAN_CHARS_SET = set(AKAN_CHARS)\n",
    "\n",
    "\n",
    "def remAccents(text):\n",
    "    \"\"\"Preserve ɛ, ɔ, ŋ and strip other diacritics.\"\"\"\n",
    "    return \"\".join(\n",
    "        t\n",
    "        for t in unicodedata.normalize(\"NFD\", text)\n",
    "        if unicodedata.category(t) != \"Mn\" or t in \"ɛɔƐƆŋŊ\"\n",
    "    )\n",
    "\n",
    "\n",
    "def isAkan(word: str):\n",
    "    \"\"\"Check if the word contains only valid Akan characters.\"\"\"\n",
    "    return all(char in AKAN_CHARS_SET for char in word)\n",
    "\n",
    "\n",
    "def cleanText(text: str):\n",
    "    \"\"\"\n",
    "    remove all words with any non-Akan characters.\n",
    "    Returns a cleaned sentence.\n",
    "    \"\"\"\n",
    "    text = remAccents(text)\n",
    "    text = text.lower()\n",
    "\n",
    "    text = re.sub(r\"[^a-zɛɔŋ'\\s]\", \" \", text)\n",
    "    text = re.sub(r\"\\s+\", \" \", text).strip()\n",
    "\n",
    "    words = text.split()\n",
    "    stripped = [word.strip(\"'\") for word in words]\n",
    "    pure_words = [word for word in stripped if isAkan(word)]\n",
    "\n",
    "    return \" \".join(pure_words)\n",
    "\n",
    "\n",
    "def preprocess(data):\n",
    "    cleanedSentences = []\n",
    "    for row in data:\n",
    "        sentence = cleanText(row)\n",
    "        if sentence:\n",
    "            cleanedSentences.append(sentence)\n",
    "    return cleanedSentences"
   ]
  },
  {
   "cell_type": "code",
   "execution_count": 9,
   "id": "f0d77355",
   "metadata": {},
   "outputs": [],
   "source": [
    "cleanedData=preprocess(data=data)"
   ]
  },
  {
   "cell_type": "code",
   "execution_count": 10,
   "id": "238b8bb8",
   "metadata": {},
   "outputs": [
    {
     "data": {
      "text/plain": [
       "['about netwow',\n",
       " 'awurade kasa song',\n",
       " 'ngmaa fo yuori ky',\n",
       " 'step into my life shwbee dwee be dibbi de dwea',\n",
       " 'draw a wma dee',\n",
       " 'obra wo gye den',\n",
       " 'marina daniel wow no',\n",
       " 'draw attention wsj',\n",
       " 'key man kwadwo asamoah',\n",
       " 'me tuu ne tonga naa']"
      ]
     },
     "execution_count": 10,
     "metadata": {},
     "output_type": "execute_result"
    }
   ],
   "source": [
    "cleanedData[-10:]"
   ]
  },
  {
   "cell_type": "code",
   "execution_count": 11,
   "id": "3a40e153",
   "metadata": {},
   "outputs": [
    {
     "name": "stdout",
     "output_type": "stream",
     "text": [
      "length of cleaned data: 432380\n"
     ]
    }
   ],
   "source": [
    "print(f\"length of cleaned data: {len(cleanedData)}\")"
   ]
  },
  {
   "cell_type": "code",
   "execution_count": 12,
   "id": "61eaf4a9",
   "metadata": {},
   "outputs": [],
   "source": [
    "def tokenize(sentences):\n",
    "    tokenizedSentences = []\n",
    "    for sentence in sentences:\n",
    "        tok = word_tokenize(sentence)\n",
    "        tokenizedSentences.append(tok)\n",
    "    return tokenizedSentences\n",
    "    "
   ]
  },
  {
   "cell_type": "code",
   "execution_count": 13,
   "id": "d3a45547",
   "metadata": {},
   "outputs": [],
   "source": [
    "sentenceTokens = tokenize(cleanedData)"
   ]
  },
  {
   "cell_type": "markdown",
   "id": "15ad33b0",
   "metadata": {},
   "source": [
    "# Splitting data into train and test"
   ]
  },
  {
   "cell_type": "code",
   "execution_count": 14,
   "id": "de59d851",
   "metadata": {},
   "outputs": [],
   "source": [
    "import random\n",
    "\n",
    "SEED = 2025\n",
    "random.seed(SEED)\n",
    "random.shuffle(sentenceTokens)\n",
    "\n",
    "trainSize = int(len(sentenceTokens)*0.8)\n",
    "trainData = sentenceTokens[0:trainSize]\n",
    "testData = sentenceTokens[trainSize:]"
   ]
  },
  {
   "cell_type": "code",
   "execution_count": 15,
   "id": "edf62a9c",
   "metadata": {},
   "outputs": [],
   "source": [
    "with open(\"./data/processed/trainTokens.pkl\", \"wb\") as f:\n",
    "    pickle.dump(trainData,f)"
   ]
  },
  {
   "cell_type": "code",
   "execution_count": 16,
   "id": "b720bd40",
   "metadata": {},
   "outputs": [],
   "source": [
    "with open(\"./data/processed/testTokens.pkl\", \"wb\") as f:\n",
    "    pickle.dump(testData, f)"
   ]
  }
 ],
 "metadata": {
  "kernelspec": {
   "display_name": "twicomplete",
   "language": "python",
   "name": "python3"
  },
  "language_info": {
   "codemirror_mode": {
    "name": "ipython",
    "version": 3
   },
   "file_extension": ".py",
   "mimetype": "text/x-python",
   "name": "python",
   "nbconvert_exporter": "python",
   "pygments_lexer": "ipython3",
   "version": "3.13.5"
  }
 },
 "nbformat": 4,
 "nbformat_minor": 5
}
