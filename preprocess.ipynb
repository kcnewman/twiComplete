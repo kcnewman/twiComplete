{
 "cells": [
  {
   "cell_type": "markdown",
   "id": "c711736b",
   "metadata": {},
   "source": [
    "# Fetching the dataset\n"
   ]
  },
  {
   "cell_type": "code",
   "execution_count": 1,
   "id": "bca8b145",
   "metadata": {},
   "outputs": [],
   "source": [
    "# dependencies\n",
    "import os\n",
    "import pandas as pd\n",
    "import numpy as np"
   ]
  },
  {
   "cell_type": "code",
   "execution_count": null,
   "id": "ad942eb5",
   "metadata": {},
   "outputs": [
    {
     "name": "stdout",
     "output_type": "stream",
     "text": [
      "len data1: 432647\n"
     ]
    }
   ],
   "source": [
    "# fetching the dataset\n",
    "\n",
    "data = pd.read_parquet(\n",
    "    \"hf://datasets/michsethowusu/twi-sentiments-corpus/data/train-00000-of-00001-871f629b5e597578.parquet\"\n",
    ")\n",
    "\n",
    "print(f\"len data1: {len(data)}\")"
   ]
  },
  {
   "cell_type": "code",
   "execution_count": 23,
   "id": "e185d171",
   "metadata": {},
   "outputs": [
    {
     "data": {
      "text/html": [
       "<div>\n",
       "<style scoped>\n",
       "    .dataframe tbody tr th:only-of-type {\n",
       "        vertical-align: middle;\n",
       "    }\n",
       "\n",
       "    .dataframe tbody tr th {\n",
       "        vertical-align: top;\n",
       "    }\n",
       "\n",
       "    .dataframe thead th {\n",
       "        text-align: right;\n",
       "    }\n",
       "</style>\n",
       "<table border=\"1\" class=\"dataframe\">\n",
       "  <thead>\n",
       "    <tr style=\"text-align: right;\">\n",
       "      <th></th>\n",
       "      <th>Twi</th>\n",
       "      <th>sentiment</th>\n",
       "      <th>__index_level_0__</th>\n",
       "    </tr>\n",
       "  </thead>\n",
       "  <tbody>\n",
       "    <tr>\n",
       "      <th>0</th>\n",
       "      <td>Nyansa mu na woyɛɛ ne nyinaa;</td>\n",
       "      <td>Positive</td>\n",
       "      <td>0</td>\n",
       "    </tr>\n",
       "    <tr>\n",
       "      <th>1</th>\n",
       "      <td>alo yɛngɛ sone,</td>\n",
       "      <td>Negative</td>\n",
       "      <td>1</td>\n",
       "    </tr>\n",
       "    <tr>\n",
       "      <th>2</th>\n",
       "      <td>Wosɛe wɔn a wɔnni wo nokorɛ nyinaa.</td>\n",
       "      <td>Negative</td>\n",
       "      <td>2</td>\n",
       "    </tr>\n",
       "    <tr>\n",
       "      <th>3</th>\n",
       "      <td>Akatua bɛn na ɔde bɛma wɔn a wɔde gyidi som no?</td>\n",
       "      <td>Positive</td>\n",
       "      <td>3</td>\n",
       "    </tr>\n",
       "    <tr>\n",
       "      <th>4</th>\n",
       "      <td>mepɛ Onyankopɔn ho nimdeɛ sen ɔhyew afɔre.</td>\n",
       "      <td>Positive</td>\n",
       "      <td>4</td>\n",
       "    </tr>\n",
       "  </tbody>\n",
       "</table>\n",
       "</div>"
      ],
      "text/plain": [
       "                                               Twi sentiment  \\\n",
       "0                    Nyansa mu na woyɛɛ ne nyinaa;  Positive   \n",
       "1                                  alo yɛngɛ sone,  Negative   \n",
       "2              Wosɛe wɔn a wɔnni wo nokorɛ nyinaa.  Negative   \n",
       "3  Akatua bɛn na ɔde bɛma wɔn a wɔde gyidi som no?  Positive   \n",
       "4       mepɛ Onyankopɔn ho nimdeɛ sen ɔhyew afɔre.  Positive   \n",
       "\n",
       "   __index_level_0__  \n",
       "0                  0  \n",
       "1                  1  \n",
       "2                  2  \n",
       "3                  3  \n",
       "4                  4  "
      ]
     },
     "execution_count": 23,
     "metadata": {},
     "output_type": "execute_result"
    }
   ],
   "source": [
    "data.head()"
   ]
  },
  {
   "cell_type": "code",
   "execution_count": 24,
   "id": "7b32999f",
   "metadata": {},
   "outputs": [],
   "source": [
    "data = data[\"Twi\"]"
   ]
  },
  {
   "cell_type": "code",
   "execution_count": 25,
   "id": "9fa2de3d",
   "metadata": {},
   "outputs": [
    {
     "data": {
      "text/plain": [
       "0                      Nyansa mu na woyɛɛ ne nyinaa;\n",
       "1                                    alo yɛngɛ sone,\n",
       "2                Wosɛe wɔn a wɔnni wo nokorɛ nyinaa.\n",
       "3    Akatua bɛn na ɔde bɛma wɔn a wɔde gyidi som no?\n",
       "4         mepɛ Onyankopɔn ho nimdeɛ sen ɔhyew afɔre.\n",
       "Name: Twi, dtype: object"
      ]
     },
     "execution_count": 25,
     "metadata": {},
     "output_type": "execute_result"
    }
   ],
   "source": [
    "data.head()"
   ]
  },
  {
   "cell_type": "code",
   "execution_count": null,
   "id": "53f3c2eb",
   "metadata": {},
   "outputs": [],
   "source": [
    "data.to_csv(\"./data/processed/twiSentences.csv\")"
   ]
  },
  {
   "cell_type": "code",
   "execution_count": 27,
   "id": "e0d4e92c",
   "metadata": {},
   "outputs": [],
   "source": [
    "twi = pd.read_csv(\"./data/processed/twiSentences.csv\")"
   ]
  },
  {
   "cell_type": "markdown",
   "id": "522475a6",
   "metadata": {},
   "source": [
    "# Preprocessing\n"
   ]
  },
  {
   "cell_type": "code",
   "execution_count": 8,
   "id": "2f4f7293",
   "metadata": {},
   "outputs": [
    {
     "name": "stderr",
     "output_type": "stream",
     "text": [
      "[nltk_data] Downloading package punkt to\n",
      "[nltk_data]     C:\\Users\\os\\AppData\\Roaming\\nltk_data...\n",
      "[nltk_data]   Package punkt is already up-to-date!\n"
     ]
    },
    {
     "data": {
      "text/plain": [
       "True"
      ]
     },
     "execution_count": 8,
     "metadata": {},
     "output_type": "execute_result"
    }
   ],
   "source": [
    "import re\n",
    "import nltk\n",
    "import pickle\n",
    "import string\n",
    "import pandas as pd\n",
    "from nltk.tokenize import word_tokenize, sent_tokenize\n",
    "\n",
    "nltk.download(\"punkt\")\n"
   ]
  },
  {
   "cell_type": "code",
   "execution_count": null,
   "id": "f0d77355",
   "metadata": {},
   "outputs": [],
   "source": [
    "def cleanText(text):\n",
    "    text = text.lower()"
   ]
  }
 ],
 "metadata": {
  "kernelspec": {
   "display_name": "twicomplete",
   "language": "python",
   "name": "python3"
  },
  "language_info": {
   "codemirror_mode": {
    "name": "ipython",
    "version": 3
   },
   "file_extension": ".py",
   "mimetype": "text/x-python",
   "name": "python",
   "nbconvert_exporter": "python",
   "pygments_lexer": "ipython3",
   "version": "3.13.5"
  }
 },
 "nbformat": 4,
 "nbformat_minor": 5
}
